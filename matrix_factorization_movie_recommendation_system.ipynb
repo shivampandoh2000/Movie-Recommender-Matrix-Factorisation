{
 "cells": [
  {
   "cell_type": "code",
   "execution_count": 1,
   "metadata": {
    "colab": {
     "base_uri": "https://localhost:8080/"
    },
    "id": "3RqUOU3SRgz_",
    "outputId": "3e6bc06c-29a2-40e7-85d1-58a83b1781da"
   },
   "outputs": [
    {
     "name": "stdout",
     "output_type": "stream",
     "text": [
      "Mounted at /content/drive\n"
     ]
    }
   ],
   "source": [
    "from google.colab import drive\n",
    "drive.mount('/content/drive')"
   ]
  },
  {
   "cell_type": "code",
   "execution_count": 2,
   "metadata": {
    "colab": {
     "base_uri": "https://localhost:8080/"
    },
    "id": "KOEhWfBKStio",
    "outputId": "a8757bf9-9670-4557-86ab-e6d6a2f8518a"
   },
   "outputs": [
    {
     "name": "stdout",
     "output_type": "stream",
     "text": [
      "/content/drive\n"
     ]
    }
   ],
   "source": [
    "%cd drive"
   ]
  },
  {
   "cell_type": "code",
   "execution_count": 3,
   "metadata": {
    "colab": {
     "base_uri": "https://localhost:8080/"
    },
    "id": "TwrrOXBDS7MK",
    "outputId": "cc31cd47-1367-4f0b-af02-a6b68a803168"
   },
   "outputs": [
    {
     "name": "stdout",
     "output_type": "stream",
     "text": [
      "/content/drive/My Drive\n"
     ]
    }
   ],
   "source": [
    "%cd 'My Drive'"
   ]
  },
  {
   "cell_type": "code",
   "execution_count": 4,
   "metadata": {
    "colab": {
     "base_uri": "https://localhost:8080/"
    },
    "id": "iZ_qY5HSiMl3",
    "outputId": "dd950606-caae-4f36-ade3-a35f0f6aaafb"
   },
   "outputs": [
    {
     "name": "stdout",
     "output_type": "stream",
     "text": [
      "Collecting surprise\n",
      "  Downloading https://files.pythonhosted.org/packages/61/de/e5cba8682201fcf9c3719a6fdda95693468ed061945493dea2dd37c5618b/surprise-0.1-py2.py3-none-any.whl\n",
      "Collecting scikit-surprise\n",
      "\u001b[?25l  Downloading https://files.pythonhosted.org/packages/97/37/5d334adaf5ddd65da99fc65f6507e0e4599d092ba048f4302fe8775619e8/scikit-surprise-1.1.1.tar.gz (11.8MB)\n",
      "\u001b[K     |████████████████████████████████| 11.8MB 307kB/s \n",
      "\u001b[?25hRequirement already satisfied: joblib>=0.11 in /usr/local/lib/python3.6/dist-packages (from scikit-surprise->surprise) (1.0.0)\n",
      "Requirement already satisfied: numpy>=1.11.2 in /usr/local/lib/python3.6/dist-packages (from scikit-surprise->surprise) (1.19.5)\n",
      "Requirement already satisfied: scipy>=1.0.0 in /usr/local/lib/python3.6/dist-packages (from scikit-surprise->surprise) (1.4.1)\n",
      "Requirement already satisfied: six>=1.10.0 in /usr/local/lib/python3.6/dist-packages (from scikit-surprise->surprise) (1.15.0)\n",
      "Building wheels for collected packages: scikit-surprise\n",
      "  Building wheel for scikit-surprise (setup.py) ... \u001b[?25l\u001b[?25hdone\n",
      "  Created wheel for scikit-surprise: filename=scikit_surprise-1.1.1-cp36-cp36m-linux_x86_64.whl size=1618293 sha256=22560b4a0a5423ee9f0b0d45a7ea7cb217d9fa92d66734d6cef3440a66011baf\n",
      "  Stored in directory: /root/.cache/pip/wheels/78/9c/3d/41b419c9d2aff5b6e2b4c0fc8d25c538202834058f9ed110d0\n",
      "Successfully built scikit-surprise\n",
      "Installing collected packages: scikit-surprise, surprise\n",
      "Successfully installed scikit-surprise-1.1.1 surprise-0.1\n"
     ]
    }
   ],
   "source": [
    "pip install surprise"
   ]
  },
  {
   "cell_type": "code",
   "execution_count": 5,
   "metadata": {
    "id": "w1V6RV1iS9rZ"
   },
   "outputs": [],
   "source": [
    "import pandas as pd\n",
    "import numpy as np\n",
    "import seaborn as sns\n",
    "sns.set_style(\"whitegrid\")\n",
    "import os\n",
    "import random\n",
    "import matplotlib\n",
    "import matplotlib.pyplot as plt\n",
    "from scipy import sparse\n",
    "from sklearn.metrics.pairwise import cosine_similarity\n",
    "from sklearn.metrics import mean_squared_error\n",
    "from datetime import datetime\n",
    "\n",
    "\n",
    "from surprise import Reader, Dataset\n",
    "from surprise import SVD\n",
    "from surprise import SVDpp\n",
    "from surprise.model_selection import GridSearchCV"
   ]
  },
  {
   "cell_type": "code",
   "execution_count": 6,
   "metadata": {
    "colab": {
     "base_uri": "https://localhost:8080/",
     "height": 402
    },
    "id": "RmV5wmoVYOS4",
    "outputId": "ff0b898a-468e-441c-ade6-57c0baa3889a"
   },
   "outputs": [
    {
     "data": {
      "text/html": [
       "<div>\n",
       "<style scoped>\n",
       "    .dataframe tbody tr th:only-of-type {\n",
       "        vertical-align: middle;\n",
       "    }\n",
       "\n",
       "    .dataframe tbody tr th {\n",
       "        vertical-align: top;\n",
       "    }\n",
       "\n",
       "    .dataframe thead th {\n",
       "        text-align: right;\n",
       "    }\n",
       "</style>\n",
       "<table border=\"1\" class=\"dataframe\">\n",
       "  <thead>\n",
       "    <tr style=\"text-align: right;\">\n",
       "      <th></th>\n",
       "      <th>userId</th>\n",
       "      <th>movieId</th>\n",
       "      <th>rating</th>\n",
       "      <th>timestamp</th>\n",
       "    </tr>\n",
       "  </thead>\n",
       "  <tbody>\n",
       "    <tr>\n",
       "      <th>0</th>\n",
       "      <td>1</td>\n",
       "      <td>2</td>\n",
       "      <td>3.5</td>\n",
       "      <td>2005-04-02 23:53:47</td>\n",
       "    </tr>\n",
       "    <tr>\n",
       "      <th>1</th>\n",
       "      <td>1</td>\n",
       "      <td>29</td>\n",
       "      <td>3.5</td>\n",
       "      <td>2005-04-02 23:31:16</td>\n",
       "    </tr>\n",
       "    <tr>\n",
       "      <th>2</th>\n",
       "      <td>1</td>\n",
       "      <td>32</td>\n",
       "      <td>3.5</td>\n",
       "      <td>2005-04-02 23:33:39</td>\n",
       "    </tr>\n",
       "    <tr>\n",
       "      <th>3</th>\n",
       "      <td>1</td>\n",
       "      <td>47</td>\n",
       "      <td>3.5</td>\n",
       "      <td>2005-04-02 23:32:07</td>\n",
       "    </tr>\n",
       "    <tr>\n",
       "      <th>4</th>\n",
       "      <td>1</td>\n",
       "      <td>50</td>\n",
       "      <td>3.5</td>\n",
       "      <td>2005-04-02 23:29:40</td>\n",
       "    </tr>\n",
       "    <tr>\n",
       "      <th>...</th>\n",
       "      <td>...</td>\n",
       "      <td>...</td>\n",
       "      <td>...</td>\n",
       "      <td>...</td>\n",
       "    </tr>\n",
       "    <tr>\n",
       "      <th>20000258</th>\n",
       "      <td>138493</td>\n",
       "      <td>68954</td>\n",
       "      <td>4.5</td>\n",
       "      <td>2009-11-13 15:42:00</td>\n",
       "    </tr>\n",
       "    <tr>\n",
       "      <th>20000259</th>\n",
       "      <td>138493</td>\n",
       "      <td>69526</td>\n",
       "      <td>4.5</td>\n",
       "      <td>2009-12-03 18:31:48</td>\n",
       "    </tr>\n",
       "    <tr>\n",
       "      <th>20000260</th>\n",
       "      <td>138493</td>\n",
       "      <td>69644</td>\n",
       "      <td>3.0</td>\n",
       "      <td>2009-12-07 18:10:57</td>\n",
       "    </tr>\n",
       "    <tr>\n",
       "      <th>20000261</th>\n",
       "      <td>138493</td>\n",
       "      <td>70286</td>\n",
       "      <td>5.0</td>\n",
       "      <td>2009-11-13 15:42:24</td>\n",
       "    </tr>\n",
       "    <tr>\n",
       "      <th>20000262</th>\n",
       "      <td>138493</td>\n",
       "      <td>71619</td>\n",
       "      <td>2.5</td>\n",
       "      <td>2009-10-17 20:25:36</td>\n",
       "    </tr>\n",
       "  </tbody>\n",
       "</table>\n",
       "<p>20000263 rows × 4 columns</p>\n",
       "</div>"
      ],
      "text/plain": [
       "          userId  movieId  rating            timestamp\n",
       "0              1        2     3.5  2005-04-02 23:53:47\n",
       "1              1       29     3.5  2005-04-02 23:31:16\n",
       "2              1       32     3.5  2005-04-02 23:33:39\n",
       "3              1       47     3.5  2005-04-02 23:32:07\n",
       "4              1       50     3.5  2005-04-02 23:29:40\n",
       "...          ...      ...     ...                  ...\n",
       "20000258  138493    68954     4.5  2009-11-13 15:42:00\n",
       "20000259  138493    69526     4.5  2009-12-03 18:31:48\n",
       "20000260  138493    69644     3.0  2009-12-07 18:10:57\n",
       "20000261  138493    70286     5.0  2009-11-13 15:42:24\n",
       "20000262  138493    71619     2.5  2009-10-17 20:25:36\n",
       "\n",
       "[20000263 rows x 4 columns]"
      ]
     },
     "execution_count": 6,
     "metadata": {
      "tags": []
     },
     "output_type": "execute_result"
    }
   ],
   "source": [
    "final_data=pd.read_csv('recommendation/rating.csv',na_values=['\\n','nan'])\n",
    "final_data"
   ]
  },
  {
   "cell_type": "code",
   "execution_count": 7,
   "metadata": {
    "colab": {
     "base_uri": "https://localhost:8080/",
     "height": 284
    },
    "id": "qO79tckGg2v8",
    "outputId": "ce8183ec-dab3-45fe-83fd-0e2a8d3c9a0c"
   },
   "outputs": [
    {
     "data": {
      "text/html": [
       "<div>\n",
       "<style scoped>\n",
       "    .dataframe tbody tr th:only-of-type {\n",
       "        vertical-align: middle;\n",
       "    }\n",
       "\n",
       "    .dataframe tbody tr th {\n",
       "        vertical-align: top;\n",
       "    }\n",
       "\n",
       "    .dataframe thead th {\n",
       "        text-align: right;\n",
       "    }\n",
       "</style>\n",
       "<table border=\"1\" class=\"dataframe\">\n",
       "  <thead>\n",
       "    <tr style=\"text-align: right;\">\n",
       "      <th></th>\n",
       "      <th>userId</th>\n",
       "      <th>movieId</th>\n",
       "      <th>rating</th>\n",
       "    </tr>\n",
       "  </thead>\n",
       "  <tbody>\n",
       "    <tr>\n",
       "      <th>count</th>\n",
       "      <td>2.000026e+07</td>\n",
       "      <td>2.000026e+07</td>\n",
       "      <td>2.000026e+07</td>\n",
       "    </tr>\n",
       "    <tr>\n",
       "      <th>mean</th>\n",
       "      <td>6.904587e+04</td>\n",
       "      <td>9.041567e+03</td>\n",
       "      <td>3.525529e+00</td>\n",
       "    </tr>\n",
       "    <tr>\n",
       "      <th>std</th>\n",
       "      <td>4.003863e+04</td>\n",
       "      <td>1.978948e+04</td>\n",
       "      <td>1.051989e+00</td>\n",
       "    </tr>\n",
       "    <tr>\n",
       "      <th>min</th>\n",
       "      <td>1.000000e+00</td>\n",
       "      <td>1.000000e+00</td>\n",
       "      <td>5.000000e-01</td>\n",
       "    </tr>\n",
       "    <tr>\n",
       "      <th>25%</th>\n",
       "      <td>3.439500e+04</td>\n",
       "      <td>9.020000e+02</td>\n",
       "      <td>3.000000e+00</td>\n",
       "    </tr>\n",
       "    <tr>\n",
       "      <th>50%</th>\n",
       "      <td>6.914100e+04</td>\n",
       "      <td>2.167000e+03</td>\n",
       "      <td>3.500000e+00</td>\n",
       "    </tr>\n",
       "    <tr>\n",
       "      <th>75%</th>\n",
       "      <td>1.036370e+05</td>\n",
       "      <td>4.770000e+03</td>\n",
       "      <td>4.000000e+00</td>\n",
       "    </tr>\n",
       "    <tr>\n",
       "      <th>max</th>\n",
       "      <td>1.384930e+05</td>\n",
       "      <td>1.312620e+05</td>\n",
       "      <td>5.000000e+00</td>\n",
       "    </tr>\n",
       "  </tbody>\n",
       "</table>\n",
       "</div>"
      ],
      "text/plain": [
       "             userId       movieId        rating\n",
       "count  2.000026e+07  2.000026e+07  2.000026e+07\n",
       "mean   6.904587e+04  9.041567e+03  3.525529e+00\n",
       "std    4.003863e+04  1.978948e+04  1.051989e+00\n",
       "min    1.000000e+00  1.000000e+00  5.000000e-01\n",
       "25%    3.439500e+04  9.020000e+02  3.000000e+00\n",
       "50%    6.914100e+04  2.167000e+03  3.500000e+00\n",
       "75%    1.036370e+05  4.770000e+03  4.000000e+00\n",
       "max    1.384930e+05  1.312620e+05  5.000000e+00"
      ]
     },
     "execution_count": 7,
     "metadata": {
      "tags": []
     },
     "output_type": "execute_result"
    }
   ],
   "source": [
    "final_data.describe()"
   ]
  },
  {
   "cell_type": "code",
   "execution_count": 8,
   "metadata": {
    "colab": {
     "base_uri": "https://localhost:8080/"
    },
    "id": "D3Ya_CAEWATf",
    "outputId": "51193a52-2141-4c92-873b-f87aa77e3b1a"
   },
   "outputs": [
    {
     "data": {
      "text/plain": [
       "userId       0\n",
       "movieId      0\n",
       "rating       0\n",
       "timestamp    0\n",
       "dtype: int64"
      ]
     },
     "execution_count": 8,
     "metadata": {
      "tags": []
     },
     "output_type": "execute_result"
    }
   ],
   "source": [
    "final_data.isnull().sum()"
   ]
  },
  {
   "cell_type": "code",
   "execution_count": 9,
   "metadata": {
    "colab": {
     "base_uri": "https://localhost:8080/"
    },
    "id": "zOun-Y_6WPLi",
    "outputId": "5ce42f72-7f12-45c4-f5f8-01f4eeffd248"
   },
   "outputs": [
    {
     "name": "stdout",
     "output_type": "stream",
     "text": [
      "Number of duplicate rows = 0\n"
     ]
    }
   ],
   "source": [
    "duplicates = final_data.duplicated([\"movieId\",\"userId\", \"rating\"])\n",
    "print(\"Number of duplicate rows = \"+str(duplicates.sum()))\n"
   ]
  },
  {
   "cell_type": "code",
   "execution_count": 10,
   "metadata": {
    "colab": {
     "base_uri": "https://localhost:8080/",
     "height": 532
    },
    "id": "mDKnWOAgWppr",
    "outputId": "68002a8f-bb82-4f09-ba9f-f1e099dbefa1"
   },
   "outputs": [
    {
     "data": {
      "image/png": "[encoded data removed]",
      "text/plain": [
       "<Figure size 864x576 with 1 Axes>"
      ]
     },
     "metadata": {
      "tags": []
     },
     "output_type": "display_data"
    }
   ],
   "source": [
    "import seaborn as sns\n",
    "sns.set_style(\"whitegrid\")\n",
    "plt.figure(figsize = (12, 8))\n",
    "sns.countplot(x=\"rating\", data=final_data)\n",
    "\n",
    "plt.tick_params(labelsize = 15)\n",
    "plt.title(\"Distribution of Ratings in final data\", fontsize = 20)\n",
    "plt.xlabel(\"Ratings\", fontsize = 20)\n",
    "plt.ylabel(\"Number of Ratings(Millions)\", fontsize = 20)\n",
    "plt.show()"
   ]
  },
  {
   "cell_type": "code",
   "execution_count": 11,
   "metadata": {
    "colab": {
     "base_uri": "https://localhost:8080/"
    },
    "id": "kKMGDF10WvbX",
    "outputId": "6cfaddcd-6ab1-48ef-9e1a-2bf2ff81e2ca"
   },
   "outputs": [
    {
     "name": "stdout",
     "output_type": "stream",
     "text": [
      "Total number of movie ratings = 20000263\n",
      "Number of unique users = 138493\n",
      "Number of unique movies = 26744\n"
     ]
    }
   ],
   "source": [
    "print(\"Total number of movie ratings = \"+str(final_data.shape[0]))\n",
    "print(\"Number of unique users = \"+str(len(np.unique(final_data[\"userId\"]))))\n",
    "print(\"Number of unique movies = \"+str(len(np.unique(final_data[\"movieId\"]))))"
   ]
  },
  {
   "cell_type": "code",
   "execution_count": 12,
   "metadata": {
    "id": "VLniEU3HWyNT"
   },
   "outputs": [],
   "source": [
    "from sklearn.model_selection import train_test_split\n",
    "#from surprise.model_selection import train_test_split\n",
    "#train_data, test_data = train_test_split(final_data, test_size=.20)\n",
    "train_data, test_data = train_test_split(final_data, test_size=0.20, random_state=30)"
   ]
  },
  {
   "cell_type": "code",
   "execution_count": 13,
   "metadata": {
    "colab": {
     "base_uri": "https://localhost:8080/",
     "height": 195
    },
    "id": "ad-tMJgGeH01",
    "outputId": "0a773975-9a3a-43f1-d8e5-597a46bbbebb"
   },
   "outputs": [
    {
     "data": {
      "text/html": [
       "<div>\n",
       "<style scoped>\n",
       "    .dataframe tbody tr th:only-of-type {\n",
       "        vertical-align: middle;\n",
       "    }\n",
       "\n",
       "    .dataframe tbody tr th {\n",
       "        vertical-align: top;\n",
       "    }\n",
       "\n",
       "    .dataframe thead th {\n",
       "        text-align: right;\n",
       "    }\n",
       "</style>\n",
       "<table border=\"1\" class=\"dataframe\">\n",
       "  <thead>\n",
       "    <tr style=\"text-align: right;\">\n",
       "      <th></th>\n",
       "      <th>userId</th>\n",
       "      <th>movieId</th>\n",
       "      <th>rating</th>\n",
       "      <th>timestamp</th>\n",
       "    </tr>\n",
       "  </thead>\n",
       "  <tbody>\n",
       "    <tr>\n",
       "      <th>19373917</th>\n",
       "      <td>134135</td>\n",
       "      <td>344</td>\n",
       "      <td>1.0</td>\n",
       "      <td>2014-08-03 07:29:44</td>\n",
       "    </tr>\n",
       "    <tr>\n",
       "      <th>7373284</th>\n",
       "      <td>50870</td>\n",
       "      <td>236</td>\n",
       "      <td>4.0</td>\n",
       "      <td>1996-11-16 13:38:36</td>\n",
       "    </tr>\n",
       "    <tr>\n",
       "      <th>992914</th>\n",
       "      <td>6713</td>\n",
       "      <td>47629</td>\n",
       "      <td>4.5</td>\n",
       "      <td>2008-10-30 19:55:19</td>\n",
       "    </tr>\n",
       "    <tr>\n",
       "      <th>1131221</th>\n",
       "      <td>7723</td>\n",
       "      <td>5512</td>\n",
       "      <td>3.0</td>\n",
       "      <td>2006-12-02 15:14:29</td>\n",
       "    </tr>\n",
       "    <tr>\n",
       "      <th>14921088</th>\n",
       "      <td>103088</td>\n",
       "      <td>1379</td>\n",
       "      <td>3.0</td>\n",
       "      <td>2008-07-10 23:31:30</td>\n",
       "    </tr>\n",
       "  </tbody>\n",
       "</table>\n",
       "</div>"
      ],
      "text/plain": [
       "          userId  movieId  rating            timestamp\n",
       "19373917  134135      344     1.0  2014-08-03 07:29:44\n",
       "7373284    50870      236     4.0  1996-11-16 13:38:36\n",
       "992914      6713    47629     4.5  2008-10-30 19:55:19\n",
       "1131221     7723     5512     3.0  2006-12-02 15:14:29\n",
       "14921088  103088     1379     3.0  2008-07-10 23:31:30"
      ]
     },
     "execution_count": 13,
     "metadata": {
      "tags": []
     },
     "output_type": "execute_result"
    }
   ],
   "source": [
    "train_data.head()"
   ]
  },
  {
   "cell_type": "code",
   "execution_count": 14,
   "metadata": {
    "colab": {
     "base_uri": "https://localhost:8080/"
    },
    "id": "BcpoqK6-eNNh",
    "outputId": "10f4b772-39da-4961-fb86-82f460ab710c"
   },
   "outputs": [
    {
     "name": "stdout",
     "output_type": "stream",
     "text": [
      "Total Train Data:\n",
      "Total number of movie ratings in train data = 16000210\n",
      "Number of unique users in train data = 138493\n",
      "Number of unique movies in train data = 25886\n",
      "Highest value of a User ID = 138493\n",
      "Highest value of a Movie ID = 131262\n"
     ]
    }
   ],
   "source": [
    "print(\"Total Train Data:\")\n",
    "print(\"Total number of movie ratings in train data = \"+str(train_data.shape[0]))\n",
    "print(\"Number of unique users in train data = \"+str(len(np.unique(train_data[\"userId\"]))))\n",
    "print(\"Number of unique movies in train data = \"+str(len(np.unique(train_data[\"movieId\"]))))\n",
    "print(\"Highest value of a User ID = \"+str(max(train_data[\"userId\"].values)))\n",
    "print(\"Highest value of a Movie ID = \"+str(max(train_data[\"movieId\"].values)))"
   ]
  },
  {
   "cell_type": "code",
   "execution_count": 15,
   "metadata": {
    "colab": {
     "base_uri": "https://localhost:8080/",
     "height": 195
    },
    "id": "ykGvL3yeeNqh",
    "outputId": "9d1a7a87-c5b3-401f-8033-122ada4b411d"
   },
   "outputs": [
    {
     "data": {
      "text/html": [
       "<div>\n",
       "<style scoped>\n",
       "    .dataframe tbody tr th:only-of-type {\n",
       "        vertical-align: middle;\n",
       "    }\n",
       "\n",
       "    .dataframe tbody tr th {\n",
       "        vertical-align: top;\n",
       "    }\n",
       "\n",
       "    .dataframe thead th {\n",
       "        text-align: right;\n",
       "    }\n",
       "</style>\n",
       "<table border=\"1\" class=\"dataframe\">\n",
       "  <thead>\n",
       "    <tr style=\"text-align: right;\">\n",
       "      <th></th>\n",
       "      <th>userId</th>\n",
       "      <th>movieId</th>\n",
       "      <th>rating</th>\n",
       "      <th>timestamp</th>\n",
       "    </tr>\n",
       "  </thead>\n",
       "  <tbody>\n",
       "    <tr>\n",
       "      <th>18832561</th>\n",
       "      <td>130456</td>\n",
       "      <td>6200</td>\n",
       "      <td>2.5</td>\n",
       "      <td>2003-06-08 20:09:59</td>\n",
       "    </tr>\n",
       "    <tr>\n",
       "      <th>9747289</th>\n",
       "      <td>67396</td>\n",
       "      <td>4056</td>\n",
       "      <td>1.0</td>\n",
       "      <td>2001-08-28 05:16:35</td>\n",
       "    </tr>\n",
       "    <tr>\n",
       "      <th>1178181</th>\n",
       "      <td>8053</td>\n",
       "      <td>4344</td>\n",
       "      <td>4.0</td>\n",
       "      <td>2001-07-21 00:37:54</td>\n",
       "    </tr>\n",
       "    <tr>\n",
       "      <th>14420448</th>\n",
       "      <td>99607</td>\n",
       "      <td>508</td>\n",
       "      <td>4.0</td>\n",
       "      <td>1996-07-18 13:31:08</td>\n",
       "    </tr>\n",
       "    <tr>\n",
       "      <th>2592728</th>\n",
       "      <td>17569</td>\n",
       "      <td>1722</td>\n",
       "      <td>1.0</td>\n",
       "      <td>1999-11-11 19:10:46</td>\n",
       "    </tr>\n",
       "  </tbody>\n",
       "</table>\n",
       "</div>"
      ],
      "text/plain": [
       "          userId  movieId  rating            timestamp\n",
       "18832561  130456     6200     2.5  2003-06-08 20:09:59\n",
       "9747289    67396     4056     1.0  2001-08-28 05:16:35\n",
       "1178181     8053     4344     4.0  2001-07-21 00:37:54\n",
       "14420448   99607      508     4.0  1996-07-18 13:31:08\n",
       "2592728    17569     1722     1.0  1999-11-11 19:10:46"
      ]
     },
     "execution_count": 15,
     "metadata": {
      "tags": []
     },
     "output_type": "execute_result"
    }
   ],
   "source": [
    "test_data.head()"
   ]
  },
  {
   "cell_type": "code",
   "execution_count": 16,
   "metadata": {
    "colab": {
     "base_uri": "https://localhost:8080/"
    },
    "id": "YMHwsPqaeOJl",
    "outputId": "4e4a3e66-af7b-4674-972d-b05f227bcbbf"
   },
   "outputs": [
    {
     "name": "stdout",
     "output_type": "stream",
     "text": [
      "Total Test Data:\n",
      "Total number of movie ratings in Test data = 4000053\n",
      "Number of unique users in Test data = 138318\n",
      "Number of unique movies in Test data = 20290\n",
      "Highest value of a User ID = 138493\n",
      "Highest value of a Movie ID = 131260\n"
     ]
    }
   ],
   "source": [
    "print(\"Total Test Data:\")\n",
    "print(\"Total number of movie ratings in Test data = \"+str(test_data.shape[0]))\n",
    "print(\"Number of unique users in Test data = \"+str(len(np.unique(test_data[\"userId\"]))))\n",
    "print(\"Number of unique movies in Test data = \"+str(len(np.unique(test_data[\"movieId\"]))))\n",
    "print(\"Highest value of a User ID = \"+str(max(test_data[\"userId\"].values)))\n",
    "print(\"Highest value of a Movie ID = \"+str(max(test_data[\"movieId\"].values)))"
   ]
  },
  {
   "cell_type": "code",
   "execution_count": 17,
   "metadata": {
    "colab": {
     "base_uri": "https://localhost:8080/"
    },
    "id": "5z_yB6eoeyiL",
    "outputId": "5a67471e-2a57-4a83-f851-bde6847ac3dd"
   },
   "outputs": [
    {
     "data": {
      "text/plain": [
       "userId\n",
       "118205    7386\n",
       "8405      6068\n",
       "121535    4477\n",
       "82418     4472\n",
       "125794    4416\n",
       "Name: rating, dtype: int64"
      ]
     },
     "execution_count": 17,
     "metadata": {
      "tags": []
     },
     "output_type": "execute_result"
    }
   ],
   "source": [
    "\n",
    "no_of_rated_movies_per_user = train_data.groupby(by = \"userId\")[\"rating\"].count().sort_values(ascending = False)\n",
    "no_of_rated_movies_per_user.head()"
   ]
  },
  {
   "cell_type": "code",
   "execution_count": 18,
   "metadata": {
    "colab": {
     "base_uri": "https://localhost:8080/"
    },
    "id": "t1cTTUZ-ezAI",
    "outputId": "790d0491-dca9-46f4-c72d-8557eb015906"
   },
   "outputs": [
    {
     "data": {
      "text/plain": [
       "count    138493.000000\n",
       "mean        115.530821\n",
       "std         184.276045\n",
       "min           9.000000\n",
       "25%          28.000000\n",
       "50%          54.000000\n",
       "75%         124.000000\n",
       "max        7386.000000\n",
       "Name: rating, dtype: float64"
      ]
     },
     "execution_count": 18,
     "metadata": {
      "tags": []
     },
     "output_type": "execute_result"
    }
   ],
   "source": [
    "no_of_rated_movies_per_user.describe()"
   ]
  },
  {
   "cell_type": "code",
   "execution_count": 19,
   "metadata": {
    "colab": {
     "base_uri": "https://localhost:8080/",
     "height": 309
    },
    "id": "1ezvqK3ahL6V",
    "outputId": "b08d3f3e-8f69-4f33-a7d9-9dc74058edea"
   },
   "outputs": [
    {
     "data": {
      "image/png": "[encoded data removed]",
      "text/plain": [
       "<Figure size 432x288 with 1 Axes>"
      ]
     },
     "metadata": {
      "tags": []
     },
     "output_type": "display_data"
    }
   ],
   "source": [
    "plt.title(\"Number of Ratings per user\", fontsize = 20)\n",
    "plt.xlabel(\"User\", fontsize = 20)\n",
    "plt.ylabel(\"Count of Ratings\", fontsize = 20)\n",
    "plt.plot(no_of_rated_movies_per_user.values)\n",
    "plt.show()"
   ]
  },
  {
   "cell_type": "code",
   "execution_count": 20,
   "metadata": {
    "colab": {
     "base_uri": "https://localhost:8080/"
    },
    "id": "wJ3FEpnyf9LY",
    "outputId": "d45d6565-cc5f-4dd4-90d9-0404e060119b"
   },
   "outputs": [
    {
     "data": {
      "text/plain": [
       "movieId\n",
       "296    53814\n",
       "356    52875\n",
       "318    50494\n",
       "593    50412\n",
       "480    47842\n",
       "Name: rating, dtype: int64"
      ]
     },
     "execution_count": 20,
     "metadata": {
      "tags": []
     },
     "output_type": "execute_result"
    }
   ],
   "source": [
    "no_of_ratings_per_movie = train_data.groupby(by = \"movieId\")[\"rating\"].count().sort_values(ascending = False)\n",
    "no_of_ratings_per_movie.head()"
   ]
  },
  {
   "cell_type": "code",
   "execution_count": 21,
   "metadata": {
    "colab": {
     "base_uri": "https://localhost:8080/",
     "height": 309
    },
    "id": "Nbj5YZR5f9tn",
    "outputId": "d2c5784d-0f7f-4047-da2e-42cc22476869"
   },
   "outputs": [
    {
     "data": {
      "image/png": "[encoded data removed]",
      "text/plain": [
       "<Figure size 432x288 with 1 Axes>"
      ]
     },
     "metadata": {
      "tags": []
     },
     "output_type": "display_data"
    }
   ],
   "source": [
    "\n",
    "plt.title(\"Number of Ratings Per Movie\", fontsize = 20)\n",
    "plt.xlabel(\"Movie\", fontsize = 20)\n",
    "plt.ylabel(\"Count of Ratings\", fontsize = 20)\n",
    "plt.plot(no_of_ratings_per_movie.values)\n",
    "plt.show()"
   ]
  },
  {
   "cell_type": "code",
   "execution_count": 22,
   "metadata": {
    "colab": {
     "base_uri": "https://localhost:8080/"
    },
    "id": "Df0oe9yKezb2",
    "outputId": "03c8940d-aacd-484a-ae87-2451a788f5d5"
   },
   "outputs": [
    {
     "data": {
      "text/plain": [
       "(138494, 131263)"
      ]
     },
     "execution_count": 22,
     "metadata": {
      "tags": []
     },
     "output_type": "execute_result"
    }
   ],
   "source": [
    "#user item sparse matrix\n",
    "\n",
    "train_sparse_matrix = sparse.csr_matrix((train_data.rating, (train_data.userId, train_data.movieId)))\n",
    "train_sparse_matrix.shape"
   ]
  },
  {
   "cell_type": "code",
   "execution_count": 23,
   "metadata": {
    "colab": {
     "base_uri": "https://localhost:8080/"
    },
    "id": "Ur5XJvOQez4b",
    "outputId": "79f9acac-3af2-4f38-cc83-77d23816769f"
   },
   "outputs": [
    {
     "data": {
      "text/plain": [
       "(138494, 131261)"
      ]
     },
     "execution_count": 23,
     "metadata": {
      "tags": []
     },
     "output_type": "execute_result"
    }
   ],
   "source": [
    "test_sparse_matrix = sparse.csr_matrix((test_data.rating, (test_data.userId, test_data.movieId)))\n",
    "test_sparse_matrix.shape"
   ]
  },
  {
   "cell_type": "code",
   "execution_count": 24,
   "metadata": {
    "colab": {
     "base_uri": "https://localhost:8080/"
    },
    "id": "dKn_1K8Je0Yz",
    "outputId": "a0323fed-891b-471e-c69e-fe99ceb9f9da"
   },
   "outputs": [
    {
     "name": "stdout",
     "output_type": "stream",
     "text": [
      "Sparsity Of Train matrix : 99.91198587045959% \n"
     ]
    }
   ],
   "source": [
    "#If you can see above that the shape of both train and test sparse matrices are same, furthermore, how come this shape of sparse\n",
    "#matrix has arrived:\n",
    "#Shape of sparse matrix depends on highest value of User ID and highest value of Movie ID. \n",
    "#Now the user whose user ID is highest is present in both train data and test data. Similarly, the movie whose movie ID is\n",
    "#highest is present in both train data and test data. Hence, shape of both train and test sparse matrices are same.\n",
    "\n",
    "rows,cols = train_sparse_matrix.shape\n",
    "total_nonzero_element = train_sparse_matrix.count_nonzero()\n",
    "\n",
    "print(\"Sparsity Of Train matrix : {}% \".format((1-(total_nonzero_element/(rows*cols)))*100))"
   ]
  },
  {
   "cell_type": "code",
   "execution_count": 25,
   "metadata": {
    "colab": {
     "base_uri": "https://localhost:8080/"
    },
    "id": "C-Fq2fUeo69O",
    "outputId": "50f69fbb-06e4-43e9-8e61-e73df1f525f5"
   },
   "outputs": [
    {
     "name": "stdout",
     "output_type": "stream",
     "text": [
      "Sparsity Of Test matrix : 99.97799612960063% \n"
     ]
    }
   ],
   "source": [
    "rows,cols = test_sparse_matrix.shape\n",
    "total_nonzero_element = test_sparse_matrix.count_nonzero()\n",
    "\n",
    "print(\"Sparsity Of Test matrix : {}% \".format((1-(total_nonzero_element/(rows*cols)))*100))"
   ]
  },
  {
   "cell_type": "code",
   "execution_count": 26,
   "metadata": {
    "id": "tn5uQPrwkb1M"
   },
   "outputs": [],
   "source": [
    "#Finding Global average of all movie ratings, Average rating per user, and Average rating per movie\n",
    "\n",
    "def getAverageRatings(sparseMatrix, if_user):\n",
    "    ax = 1 if if_user else 0\n",
    "    #axis = 1 means rows and axis = 0 means columns \n",
    "    sumOfRatings = sparseMatrix.sum(axis = ax).A1  #this will give an array of sum of all the ratings of user if axis = 1 else \n",
    "    #sum of all the ratings of movies if axis = 0\n",
    "    noOfRatings = (sparseMatrix!=0).sum(axis = ax).A1  #this will give a boolean True or False array, and True means 1 and False \n",
    "    #means 0, and further we are summing it to get the count of all the non-zero cells means length of non-zero cells\n",
    "    rows, cols = sparseMatrix.shape\n",
    "    averageRatings = {i: sumOfRatings[i]/noOfRatings[i] for i in range(rows if if_user else cols) if noOfRatings[i]!=0}\n",
    "    return averageRatings"
   ]
  },
  {
   "cell_type": "code",
   "execution_count": 27,
   "metadata": {
    "colab": {
     "base_uri": "https://localhost:8080/"
    },
    "id": "ce9WtvxXkcPp",
    "outputId": "c0e562df-1733-4356-f588-c921fa8a0671"
   },
   "outputs": [
    {
     "data": {
      "text/plain": [
       "3.5255479771827996"
      ]
     },
     "execution_count": 27,
     "metadata": {
      "tags": []
     },
     "output_type": "execute_result"
    }
   ],
   "source": [
    "#Global Average Rating in user item train sparse matrix\n",
    "\n",
    "global_average_rating = train_sparse_matrix.sum()/train_sparse_matrix.count_nonzero()\n",
    "global_average_rating"
   ]
  },
  {
   "cell_type": "code",
   "execution_count": 28,
   "metadata": {
    "colab": {
     "base_uri": "https://localhost:8080/"
    },
    "id": "tzSA0eFmkcst",
    "outputId": "688166c1-fc58-4ada-83e5-06939476f96f"
   },
   "outputs": [
    {
     "data": {
      "text/plain": [
       "3.6363636363636362"
      ]
     },
     "execution_count": 28,
     "metadata": {
      "tags": []
     },
     "output_type": "execute_result"
    }
   ],
   "source": [
    "#Average Rating Per User in user item train sparse matrix\n",
    "\n",
    "average_rating_user = getAverageRatings(train_sparse_matrix, True)\n",
    "average_rating_user[25]"
   ]
  },
  {
   "cell_type": "code",
   "execution_count": 29,
   "metadata": {
    "colab": {
     "base_uri": "https://localhost:8080/"
    },
    "id": "O5gJGjjtkdEt",
    "outputId": "f28d51e9-93d4-4921-f0c6-3d31163b588f"
   },
   "outputs": [
    {
     "data": {
      "text/plain": [
       "3.7385892116182573"
      ]
     },
     "execution_count": 29,
     "metadata": {
      "tags": []
     },
     "output_type": "execute_result"
    }
   ],
   "source": [
    "#Average Rating Per Movie in user item train sparse matrix\n",
    "\n",
    "average_rating_movie = getAverageRatings(train_sparse_matrix, False)\n",
    "average_rating_movie[4500]"
   ]
  },
  {
   "cell_type": "code",
   "execution_count": 30,
   "metadata": {
    "colab": {
     "base_uri": "https://localhost:8080/",
     "height": 601
    },
    "id": "-WvNTeTYn4HN",
    "outputId": "a0c31500-f7ec-4a47-fd45-8d7b1f996cdc"
   },
   "outputs": [
    {
     "data": {
      "image/png": "[encoded data removed]",
      "text/plain": [
       "<Figure size 432x288 with 1 Axes>"
      ]
     },
     "metadata": {
      "tags": []
     },
     "output_type": "display_data"
    },
    {
     "data": {
      "image/png": "[encoded data removed]",
      "text/plain": [
       "<Figure size 432x288 with 1 Axes>"
      ]
     },
     "metadata": {
      "tags": []
     },
     "output_type": "display_data"
    }
   ],
   "source": [
    "plt.title(\"Average Ratings Per Movie\", fontsize = 20)\n",
    "plt.xlabel(\"Movie\", fontsize = 20)\n",
    "plt.ylabel(\"Average Ratings\", fontsize = 20)\n",
    "movie_average=[avg for avg in average_rating_movie.values()]\n",
    "plt.plot(movie_average)\n",
    "plt.show()\n",
    "\n",
    "plt.title(\"Average Ratings Per user\", fontsize = 20)\n",
    "plt.xlabel(\"User\", fontsize = 20)\n",
    "plt.ylabel(\"Average Ratings\", fontsize = 20)\n",
    "user_average=[avg for avg in average_rating_user.values()]\n",
    "plt.plot(user_average)\n",
    "plt.show()"
   ]
  },
  {
   "cell_type": "code",
   "execution_count": 31,
   "metadata": {
    "id": "SZObOxYBxQf6"
   },
   "outputs": [],
   "source": [
    "def get_sample_sparse_matrix(sparseMatrix, n_users, n_movies):\n",
    "    users, movies, ratings = sparse.find(sparseMatrix)\n",
    "    uniq_users = np.unique(users)\n",
    "    uniq_movies = np.unique(movies)\n",
    "    np.random.seed(15)   #this will give same random number everytime, without replacement\n",
    "    userS = np.random.choice(uniq_users, n_users, replace = False)\n",
    "    movieS = np.random.choice(uniq_movies, n_movies, replace = False)\n",
    "    mask = np.logical_and(np.isin(users, userS), np.isin(movies, movieS))\n",
    "    sparse_sample = sparse.csr_matrix((ratings[mask], (users[mask], movies[mask])))\n",
    "                                                    \n",
    "    return sparse_sample"
   ]
  },
  {
   "cell_type": "code",
   "execution_count": 32,
   "metadata": {
    "colab": {
     "base_uri": "https://localhost:8080/"
    },
    "id": "G6icJipaxQ8X",
    "outputId": "11ef7fd7-a0a7-407b-f6c4-8e0fad4307ab"
   },
   "outputs": [
    {
     "data": {
      "text/plain": [
       "(138440, 127631)"
      ]
     },
     "execution_count": 32,
     "metadata": {
      "tags": []
     },
     "output_type": "execute_result"
    }
   ],
   "source": [
    "# creating sample sparse matrix for training data\n",
    "train_sample_sparse = get_sample_sparse_matrix(train_sparse_matrix, 4000, 400)\n",
    "train_sample_sparse.shape"
   ]
  },
  {
   "cell_type": "code",
   "execution_count": 33,
   "metadata": {
    "colab": {
     "base_uri": "https://localhost:8080/"
    },
    "id": "X1fnYbqaxRdC",
    "outputId": "b7e32e7d-3f2c-455e-e2ab-6f520a0d878c"
   },
   "outputs": [
    {
     "data": {
      "text/plain": [
       "(138135, 95011)"
      ]
     },
     "execution_count": 33,
     "metadata": {
      "tags": []
     },
     "output_type": "execute_result"
    }
   ],
   "source": [
    "\n",
    "# creating sample sparse matrix for testing data\n",
    "test_sample_sparse = get_sample_sparse_matrix(test_sparse_matrix, 2000, 200)\n",
    "test_sample_sparse.shape"
   ]
  },
  {
   "cell_type": "code",
   "execution_count": 34,
   "metadata": {
    "id": "QfrKUuqf93pH"
   },
   "outputs": [],
   "source": [
    "#FEATURIZING FOR SAMPLE TRAIN DATA"
   ]
  },
  {
   "cell_type": "code",
   "execution_count": 35,
   "metadata": {
    "colab": {
     "base_uri": "https://localhost:8080/"
    },
    "id": "OIuDr5l3xR6B",
    "outputId": "40874c54-12b7-4faa-dd2a-5c1eb0c1f800"
   },
   "outputs": [
    {
     "data": {
      "text/plain": [
       "3.5490377761938703"
      ]
     },
     "execution_count": 35,
     "metadata": {
      "tags": []
     },
     "output_type": "execute_result"
    }
   ],
   "source": [
    "# global average for a sample train data.\n",
    "train_sample_averages = dict()\n",
    "train_sample_global_averages = train_sample_sparse.sum()/train_sample_sparse.count_nonzero()\n",
    "train_sample_averages['global'] = train_sample_global_averages\n",
    "train_sample_averages['global']"
   ]
  },
  {
   "cell_type": "code",
   "execution_count": 36,
   "metadata": {
    "id": "Mi_vuJAm67kr"
   },
   "outputs": [],
   "source": [
    "# Average ratings given by a user\n",
    "train_sample_averages['movie'] = getAverageRatings(train_sample_sparse, False)\n",
    "# Average ratings given by a movie\n",
    "train_sample_averages['user'] = getAverageRatings(train_sample_sparse, True)"
   ]
  },
  {
   "cell_type": "code",
   "execution_count": 37,
   "metadata": {
    "id": "yzZxtXfCn4zk"
   },
   "outputs": [],
   "source": [
    "# get users, movies and ratings from our samples train sparse matrix\n",
    "sample_train_users, sample_train_movies, sample_train_ratings = sparse.find(train_sample_sparse)"
   ]
  },
  {
   "cell_type": "code",
   "execution_count": 38,
   "metadata": {
    "id": "5q1U50ogjhuk"
   },
   "outputs": [],
   "source": [
    "train_reg = pd.DataFrame()\n",
    "for (user, movie, rating)  in zip(sample_train_users, sample_train_movies, sample_train_ratings):\n",
    "        #     print(user, movie)    \n",
    "            #--------------------- Ratings of \"movie\" by similar users of \"user\" ---------------------\n",
    "            # compute the similar Users of the \"user\"        \n",
    "            user_sim = cosine_similarity(train_sample_sparse[user], train_sample_sparse).ravel()\n",
    "            top_sim_users = user_sim.argsort()[::-1][1:] # we are ignoring 'The User' from its similar users.\n",
    "            # get the ratings of most similar users for this movie\n",
    "            top_ratings = train_sample_sparse[top_sim_users, movie].toarray().ravel()\n",
    "            # we will make it's length \"5\" by adding movie averages to .\n",
    "            top_sim_users_ratings = list(top_ratings[top_ratings != 0][:5])\n",
    "            top_sim_users_ratings.extend([train_sample_averages['movie'][movie]]*(5 - len(top_sim_users_ratings)))\n",
    "        #     print(top_sim_users_ratings, end=\" \")    \n",
    "\n",
    "\n",
    "            #--------------------- Ratings by \"user\"  to similar movies of \"movie\" ---------------------\n",
    "            # compute the similar movies of the \"movie\"        \n",
    "            movie_sim = cosine_similarity(train_sample_sparse[:,movie].T, train_sample_sparse.T).ravel()\n",
    "            top_sim_movies = movie_sim.argsort()[::-1][1:] # we are ignoring 'The User' from its similar users.\n",
    "            # get the ratings of most similar movie rated by this user..\n",
    "            top_ratings = train_sample_sparse[user, top_sim_movies].toarray().ravel()\n",
    "            # we will make it's length \"5\" by adding user averages to.\n",
    "            top_sim_movies_ratings = list(top_ratings[top_ratings != 0][:5])\n",
    "            top_sim_movies_ratings.extend([train_sample_averages['user'][user]]*(5-len(top_sim_movies_ratings))) \n",
    "        #     print(top_sim_movies_ratings, end=\" : -- \")\n",
    "\n",
    "            #-----------------prepare the row to be stores in a file-----------------#\n",
    "            row = list()\n",
    "            row.append(user)\n",
    "            row.append(movie)\n",
    "            # Now add the other features to this data...\n",
    "            row.append(train_sample_averages['global']) # first feature\n",
    "            # next 5 features are similar_users \"movie\" ratings\n",
    "            row.extend(top_sim_users_ratings)\n",
    "            # next 5 features are \"user\" ratings for similar_movies\n",
    "            row.extend(top_sim_movies_ratings)\n",
    "            # Avg_user rating\n",
    "            row.append(train_sample_averages['user'][user])\n",
    "            # Avg_movie rating\n",
    "            row.append(train_sample_averages['movie'][movie])\n",
    "\n",
    "            # finalley, The actual Rating of this user-movie pair...\n",
    "            row.append(rating)\n",
    "            train_reg = train_reg.append([row])\n"
   ]
  },
  {
   "cell_type": "code",
   "execution_count": 39,
   "metadata": {
    "id": "Zznc_w5WjiHm"
   },
   "outputs": [],
   "source": [
    "train_reg.columns=['user', 'movie', 'GAvg', 'sur1', 'sur2', 'sur3', 'sur4', 'sur5',\n",
    "            'smr1', 'smr2', 'smr3', 'smr4', 'smr5', 'UAvg', 'MAvg', 'rating']"
   ]
  },
  {
   "cell_type": "code",
   "execution_count": 40,
   "metadata": {
    "colab": {
     "base_uri": "https://localhost:8080/",
     "height": 195
    },
    "id": "VKIMqmrEjiuG",
    "outputId": "b50aab56-4d45-4d69-ac3b-8edad526fa28"
   },
   "outputs": [
    {
     "data": {
      "text/html": [
       "<div>\n",
       "<style scoped>\n",
       "    .dataframe tbody tr th:only-of-type {\n",
       "        vertical-align: middle;\n",
       "    }\n",
       "\n",
       "    .dataframe tbody tr th {\n",
       "        vertical-align: top;\n",
       "    }\n",
       "\n",
       "    .dataframe thead th {\n",
       "        text-align: right;\n",
       "    }\n",
       "</style>\n",
       "<table border=\"1\" class=\"dataframe\">\n",
       "  <thead>\n",
       "    <tr style=\"text-align: right;\">\n",
       "      <th></th>\n",
       "      <th>user</th>\n",
       "      <th>movie</th>\n",
       "      <th>GAvg</th>\n",
       "      <th>sur1</th>\n",
       "      <th>sur2</th>\n",
       "      <th>sur3</th>\n",
       "      <th>sur4</th>\n",
       "      <th>sur5</th>\n",
       "      <th>smr1</th>\n",
       "      <th>smr2</th>\n",
       "      <th>smr3</th>\n",
       "      <th>smr4</th>\n",
       "      <th>smr5</th>\n",
       "      <th>UAvg</th>\n",
       "      <th>MAvg</th>\n",
       "      <th>rating</th>\n",
       "    </tr>\n",
       "  </thead>\n",
       "  <tbody>\n",
       "    <tr>\n",
       "      <th>0</th>\n",
       "      <td>663</td>\n",
       "      <td>11</td>\n",
       "      <td>3.549038</td>\n",
       "      <td>3.5</td>\n",
       "      <td>4.0</td>\n",
       "      <td>2.0</td>\n",
       "      <td>4.0</td>\n",
       "      <td>4.0</td>\n",
       "      <td>3.0</td>\n",
       "      <td>3.0</td>\n",
       "      <td>1.000000</td>\n",
       "      <td>3.000000</td>\n",
       "      <td>5.000000</td>\n",
       "      <td>3.388889</td>\n",
       "      <td>3.671498</td>\n",
       "      <td>3.0</td>\n",
       "    </tr>\n",
       "    <tr>\n",
       "      <th>0</th>\n",
       "      <td>732</td>\n",
       "      <td>11</td>\n",
       "      <td>3.549038</td>\n",
       "      <td>3.0</td>\n",
       "      <td>4.0</td>\n",
       "      <td>4.0</td>\n",
       "      <td>4.0</td>\n",
       "      <td>4.0</td>\n",
       "      <td>3.5</td>\n",
       "      <td>2.5</td>\n",
       "      <td>3.666667</td>\n",
       "      <td>3.666667</td>\n",
       "      <td>3.666667</td>\n",
       "      <td>3.666667</td>\n",
       "      <td>3.671498</td>\n",
       "      <td>5.0</td>\n",
       "    </tr>\n",
       "    <tr>\n",
       "      <th>0</th>\n",
       "      <td>1754</td>\n",
       "      <td>11</td>\n",
       "      <td>3.549038</td>\n",
       "      <td>4.0</td>\n",
       "      <td>4.0</td>\n",
       "      <td>4.0</td>\n",
       "      <td>5.0</td>\n",
       "      <td>5.0</td>\n",
       "      <td>3.0</td>\n",
       "      <td>3.5</td>\n",
       "      <td>3.500000</td>\n",
       "      <td>3.500000</td>\n",
       "      <td>3.500000</td>\n",
       "      <td>3.500000</td>\n",
       "      <td>3.671498</td>\n",
       "      <td>4.0</td>\n",
       "    </tr>\n",
       "    <tr>\n",
       "      <th>0</th>\n",
       "      <td>1869</td>\n",
       "      <td>11</td>\n",
       "      <td>3.549038</td>\n",
       "      <td>4.0</td>\n",
       "      <td>4.0</td>\n",
       "      <td>5.0</td>\n",
       "      <td>4.0</td>\n",
       "      <td>4.0</td>\n",
       "      <td>2.0</td>\n",
       "      <td>4.0</td>\n",
       "      <td>2.000000</td>\n",
       "      <td>2.000000</td>\n",
       "      <td>2.800000</td>\n",
       "      <td>2.800000</td>\n",
       "      <td>3.671498</td>\n",
       "      <td>4.0</td>\n",
       "    </tr>\n",
       "    <tr>\n",
       "      <th>0</th>\n",
       "      <td>1937</td>\n",
       "      <td>11</td>\n",
       "      <td>3.549038</td>\n",
       "      <td>4.0</td>\n",
       "      <td>3.0</td>\n",
       "      <td>5.0</td>\n",
       "      <td>4.0</td>\n",
       "      <td>3.0</td>\n",
       "      <td>2.0</td>\n",
       "      <td>4.0</td>\n",
       "      <td>4.000000</td>\n",
       "      <td>3.000000</td>\n",
       "      <td>5.000000</td>\n",
       "      <td>3.833333</td>\n",
       "      <td>3.671498</td>\n",
       "      <td>3.0</td>\n",
       "    </tr>\n",
       "  </tbody>\n",
       "</table>\n",
       "</div>"
      ],
      "text/plain": [
       "   user  movie      GAvg  sur1  ...      smr5      UAvg      MAvg  rating\n",
       "0   663     11  3.549038   3.5  ...  5.000000  3.388889  3.671498     3.0\n",
       "0   732     11  3.549038   3.0  ...  3.666667  3.666667  3.671498     5.0\n",
       "0  1754     11  3.549038   4.0  ...  3.500000  3.500000  3.671498     4.0\n",
       "0  1869     11  3.549038   4.0  ...  2.800000  2.800000  3.671498     4.0\n",
       "0  1937     11  3.549038   4.0  ...  5.000000  3.833333  3.671498     3.0\n",
       "\n",
       "[5 rows x 16 columns]"
      ]
     },
     "execution_count": 40,
     "metadata": {
      "tags": []
     },
     "output_type": "execute_result"
    }
   ],
   "source": [
    "train_reg.head()"
   ]
  },
  {
   "cell_type": "code",
   "execution_count": 41,
   "metadata": {
    "id": "yWbWLAb5jjIS"
   },
   "outputs": [],
   "source": [
    "#FEATURIZING FOR SAMPLE TEST DATA"
   ]
  },
  {
   "cell_type": "code",
   "execution_count": 42,
   "metadata": {
    "colab": {
     "base_uri": "https://localhost:8080/"
    },
    "id": "bfBSidKGDJ7Q",
    "outputId": "7423f240-931f-4010-a00c-19c7012d076a"
   },
   "outputs": [
    {
     "data": {
      "text/plain": [
       "3.347826086956522"
      ]
     },
     "execution_count": 42,
     "metadata": {
      "tags": []
     },
     "output_type": "execute_result"
    }
   ],
   "source": [
    "# global average for a sample test data.\n",
    "test_sample_averages = dict()\n",
    "test_sample_global_averages = test_sample_sparse.sum()/test_sample_sparse.count_nonzero()\n",
    "test_sample_averages['global'] = test_sample_global_averages\n",
    "test_sample_averages['global']"
   ]
  },
  {
   "cell_type": "code",
   "execution_count": 43,
   "metadata": {
    "id": "mQYCJ-dsDKb3"
   },
   "outputs": [],
   "source": [
    "# Average ratings given by a user\n",
    "test_sample_averages['movie'] = getAverageRatings(test_sample_sparse, False)\n",
    "# Average ratings given by a movie\n",
    "test_sample_averages['user'] = getAverageRatings(test_sample_sparse, True)"
   ]
  },
  {
   "cell_type": "code",
   "execution_count": 44,
   "metadata": {
    "id": "56wHszekDK19"
   },
   "outputs": [],
   "source": [
    "# get users, movies and ratings from our samples test sparse matrix\n",
    "sample_test_users, sample_test_movies, sample_test_ratings = sparse.find(test_sample_sparse)"
   ]
  },
  {
   "cell_type": "code",
   "execution_count": 45,
   "metadata": {
    "id": "Wtu45mVaDLVX"
   },
   "outputs": [],
   "source": [
    "test_reg = pd.DataFrame()\n",
    "for (user, movie, rating)  in zip(sample_test_users, sample_test_movies, sample_test_ratings):\n",
    "        #     print(user, movie)    \n",
    "            #--------------------- Ratings of \"movie\" by similar users of \"user\" ---------------------\n",
    "            # compute the similar Users of the \"user\"        \n",
    "            user_sim = cosine_similarity(test_sample_sparse[user], test_sample_sparse).ravel()\n",
    "            top_sim_users = user_sim.argsort()[::-1][1:] # we are ignoring 'The User' from its similar users.\n",
    "            # get the ratings of most similar users for this movie\n",
    "            top_ratings = test_sample_sparse[top_sim_users, movie].toarray().ravel()\n",
    "            # we will make it's length \"5\" by adding movie averages to .\n",
    "            top_sim_users_ratings = list(top_ratings[top_ratings != 0][:5])\n",
    "            top_sim_users_ratings.extend([test_sample_averages['movie'][movie]]*(5 - len(top_sim_users_ratings)))\n",
    "        #     print(top_sim_users_ratings, end=\" \")    \n",
    "\n",
    "\n",
    "            #--------------------- Ratings by \"user\"  to similar movies of \"movie\" ---------------------\n",
    "            # compute the similar movies of the \"movie\"        \n",
    "            movie_sim = cosine_similarity(test_sample_sparse[:,movie].T, test_sample_sparse.T).ravel()\n",
    "            top_sim_movies = movie_sim.argsort()[::-1][1:] # we are ignoring 'The User' from its similar users.\n",
    "            # get the ratings of most similar movie rated by this user..\n",
    "            top_ratings = test_sample_sparse[user, top_sim_movies].toarray().ravel()\n",
    "            # we will make it's length \"5\" by adding user averages to.\n",
    "            top_sim_movies_ratings = list(top_ratings[top_ratings != 0][:5])\n",
    "            top_sim_movies_ratings.extend([test_sample_averages['user'][user]]*(5-len(top_sim_movies_ratings))) \n",
    "        #     print(top_sim_movies_ratings, end=\" : -- \")\n",
    "\n",
    "            #-----------------prepare the row to be stores in a file-----------------#\n",
    "            row = list()\n",
    "            row.append(user)\n",
    "            row.append(movie)\n",
    "            # Now add the other features to this data...\n",
    "            row.append(test_sample_averages['global']) # first feature\n",
    "            # next 5 features are similar_users \"movie\" ratings\n",
    "            row.extend(top_sim_users_ratings)\n",
    "            # next 5 features are \"user\" ratings for similar_movies\n",
    "            row.extend(top_sim_movies_ratings)\n",
    "            # Avg_user rating\n",
    "            row.append(test_sample_averages['user'][user])\n",
    "            # Avg_movie rating\n",
    "            row.append(test_sample_averages['movie'][movie])\n",
    "\n",
    "            # finalley, The actual Rating of this user-movie pair...\n",
    "            row.append(rating)\n",
    "            test_reg = test_reg.append([row])\n"
   ]
  },
  {
   "cell_type": "code",
   "execution_count": 46,
   "metadata": {
    "id": "ovaytM-dDLyq"
   },
   "outputs": [],
   "source": [
    "test_reg.columns=['user', 'movie', 'GAvg', 'sur1', 'sur2', 'sur3', 'sur4', 'sur5',\n",
    "            'smr1', 'smr2', 'smr3', 'smr4', 'smr5', 'UAvg', 'MAvg', 'rating']"
   ]
  },
  {
   "cell_type": "code",
   "execution_count": 47,
   "metadata": {
    "colab": {
     "base_uri": "https://localhost:8080/",
     "height": 195
    },
    "id": "hy18baKrDMXW",
    "outputId": "8665b13d-c0f4-4295-e195-f7dbb648eb51"
   },
   "outputs": [
    {
     "data": {
      "text/html": [
       "<div>\n",
       "<style scoped>\n",
       "    .dataframe tbody tr th:only-of-type {\n",
       "        vertical-align: middle;\n",
       "    }\n",
       "\n",
       "    .dataframe tbody tr th {\n",
       "        vertical-align: top;\n",
       "    }\n",
       "\n",
       "    .dataframe thead th {\n",
       "        text-align: right;\n",
       "    }\n",
       "</style>\n",
       "<table border=\"1\" class=\"dataframe\">\n",
       "  <thead>\n",
       "    <tr style=\"text-align: right;\">\n",
       "      <th></th>\n",
       "      <th>user</th>\n",
       "      <th>movie</th>\n",
       "      <th>GAvg</th>\n",
       "      <th>sur1</th>\n",
       "      <th>sur2</th>\n",
       "      <th>sur3</th>\n",
       "      <th>sur4</th>\n",
       "      <th>sur5</th>\n",
       "      <th>smr1</th>\n",
       "      <th>smr2</th>\n",
       "      <th>smr3</th>\n",
       "      <th>smr4</th>\n",
       "      <th>smr5</th>\n",
       "      <th>UAvg</th>\n",
       "      <th>MAvg</th>\n",
       "      <th>rating</th>\n",
       "    </tr>\n",
       "  </thead>\n",
       "  <tbody>\n",
       "    <tr>\n",
       "      <th>0</th>\n",
       "      <td>26590</td>\n",
       "      <td>9</td>\n",
       "      <td>3.347826</td>\n",
       "      <td>4.0</td>\n",
       "      <td>3.0</td>\n",
       "      <td>3.0</td>\n",
       "      <td>4.0</td>\n",
       "      <td>4.0</td>\n",
       "      <td>4.0</td>\n",
       "      <td>4.0</td>\n",
       "      <td>4.0</td>\n",
       "      <td>4.0</td>\n",
       "      <td>4.0</td>\n",
       "      <td>4.0</td>\n",
       "      <td>3.458333</td>\n",
       "      <td>4.0</td>\n",
       "    </tr>\n",
       "    <tr>\n",
       "      <th>0</th>\n",
       "      <td>31383</td>\n",
       "      <td>9</td>\n",
       "      <td>3.347826</td>\n",
       "      <td>4.0</td>\n",
       "      <td>3.0</td>\n",
       "      <td>3.0</td>\n",
       "      <td>4.0</td>\n",
       "      <td>4.0</td>\n",
       "      <td>3.0</td>\n",
       "      <td>3.0</td>\n",
       "      <td>3.0</td>\n",
       "      <td>3.0</td>\n",
       "      <td>3.0</td>\n",
       "      <td>3.0</td>\n",
       "      <td>3.458333</td>\n",
       "      <td>3.0</td>\n",
       "    </tr>\n",
       "    <tr>\n",
       "      <th>0</th>\n",
       "      <td>43399</td>\n",
       "      <td>9</td>\n",
       "      <td>3.347826</td>\n",
       "      <td>4.0</td>\n",
       "      <td>3.0</td>\n",
       "      <td>3.5</td>\n",
       "      <td>3.0</td>\n",
       "      <td>3.0</td>\n",
       "      <td>3.0</td>\n",
       "      <td>3.0</td>\n",
       "      <td>3.0</td>\n",
       "      <td>3.0</td>\n",
       "      <td>3.0</td>\n",
       "      <td>3.0</td>\n",
       "      <td>3.458333</td>\n",
       "      <td>3.0</td>\n",
       "    </tr>\n",
       "    <tr>\n",
       "      <th>0</th>\n",
       "      <td>54959</td>\n",
       "      <td>9</td>\n",
       "      <td>3.347826</td>\n",
       "      <td>3.0</td>\n",
       "      <td>3.0</td>\n",
       "      <td>3.0</td>\n",
       "      <td>3.5</td>\n",
       "      <td>3.0</td>\n",
       "      <td>2.0</td>\n",
       "      <td>3.0</td>\n",
       "      <td>3.0</td>\n",
       "      <td>3.0</td>\n",
       "      <td>3.0</td>\n",
       "      <td>3.0</td>\n",
       "      <td>3.458333</td>\n",
       "      <td>4.0</td>\n",
       "    </tr>\n",
       "    <tr>\n",
       "      <th>0</th>\n",
       "      <td>57049</td>\n",
       "      <td>9</td>\n",
       "      <td>3.347826</td>\n",
       "      <td>4.0</td>\n",
       "      <td>3.0</td>\n",
       "      <td>3.0</td>\n",
       "      <td>4.0</td>\n",
       "      <td>4.0</td>\n",
       "      <td>3.0</td>\n",
       "      <td>3.0</td>\n",
       "      <td>3.0</td>\n",
       "      <td>3.0</td>\n",
       "      <td>3.0</td>\n",
       "      <td>3.0</td>\n",
       "      <td>3.458333</td>\n",
       "      <td>3.0</td>\n",
       "    </tr>\n",
       "  </tbody>\n",
       "</table>\n",
       "</div>"
      ],
      "text/plain": [
       "    user  movie      GAvg  sur1  sur2  ...  smr4  smr5  UAvg      MAvg  rating\n",
       "0  26590      9  3.347826   4.0   3.0  ...   4.0   4.0   4.0  3.458333     4.0\n",
       "0  31383      9  3.347826   4.0   3.0  ...   3.0   3.0   3.0  3.458333     3.0\n",
       "0  43399      9  3.347826   4.0   3.0  ...   3.0   3.0   3.0  3.458333     3.0\n",
       "0  54959      9  3.347826   3.0   3.0  ...   3.0   3.0   3.0  3.458333     4.0\n",
       "0  57049      9  3.347826   4.0   3.0  ...   3.0   3.0   3.0  3.458333     3.0\n",
       "\n",
       "[5 rows x 16 columns]"
      ]
     },
     "execution_count": 47,
     "metadata": {
      "tags": []
     },
     "output_type": "execute_result"
    }
   ],
   "source": [
    "test_reg.head()"
   ]
  },
  {
   "cell_type": "code",
   "execution_count": 48,
   "metadata": {
    "id": "H5lOwxokDM9l"
   },
   "outputs": [],
   "source": [
    "#User_ID: ID of a this User\n",
    "\n",
    "#Movie_ID: ID of a this Movie\n",
    "\n",
    "#Global_Average: Global Average Rating\n",
    "\n",
    "#Ratings given to this Movie by top 5 similar users with this User: (SUR1, SUR2, SUR3, SUR4, SUR5)\n",
    "\n",
    "#Ratings given by this User to top 5 similar movies with this Movie: (SMR1, SMR2, SMR3, SMR4, SMR5)\n",
    "\n",
    "#User_Average: Average Rating of this User\n",
    "\n",
    "#Movie_Average: Average Rating of this Movie\n",
    "\n",
    "#Rating: Rating given by this User to this Movie"
   ]
  },
  {
   "cell_type": "code",
   "execution_count": 49,
   "metadata": {
    "id": "4INWsVh0AgDV"
   },
   "outputs": [],
   "source": [
    "error_table = pd.DataFrame(columns = [\"Model\", \"Train RMSE\", \"Train MAPE\", \"Test RMSE\", \"Test MAPE\"])\n",
    "model_train_evaluation = dict()\n",
    "model_test_evaluation = dict()"
   ]
  },
  {
   "cell_type": "code",
   "execution_count": 50,
   "metadata": {
    "id": "-ExRyOvFBEZz"
   },
   "outputs": [],
   "source": [
    "def make_table(model_name, rmse_train, mape_train, rmse_test, mape_test):\n",
    "    global error_table\n",
    "    #All variable assignments in a function store the value in the local symbol table; whereas variable references first look \n",
    "    #in the local symbol table, then in the global symbol table, and then in the table of built-in names. Thus, global variables \n",
    "    #cannot be directly assigned a value within a function (unless named in a global statement), \n",
    "    #although they may be referenced.\n",
    "    error_table = error_table.append(pd.DataFrame([[model_name, rmse_train, mape_train, rmse_test, mape_test]], columns = [\"Model\", \"Train RMSE\", \"Train MAPE\", \"Test RMSE\", \"Test MAPE\"]))\n",
    "    error_table.reset_index(drop = True, inplace = True)"
   ]
  },
  {
   "cell_type": "code",
   "execution_count": 51,
   "metadata": {
    "id": "-_Mbr4IBEHt-"
   },
   "outputs": [],
   "source": [
    "# Surprise model "
   ]
  },
  {
   "cell_type": "code",
   "execution_count": 52,
   "metadata": {
    "id": "Rx7VZ8aoHeYR"
   },
   "outputs": [],
   "source": [
    "reader = Reader(rating_scale=(1, 5))\n",
    "\n",
    "data = Dataset.load_from_df(train_reg[['user', 'movie', 'rating']], reader)\n",
    "\n",
    "trainset = data.build_full_trainset()"
   ]
  },
  {
   "cell_type": "code",
   "execution_count": 53,
   "metadata": {
    "id": "VhzL9tVXHkcq"
   },
   "outputs": [],
   "source": [
    "reader = Reader(rating_scale=(1, 5))\n",
    "\n",
    "data = Dataset.load_from_df(test_reg[['user', 'movie', 'rating']], reader)\n",
    "\n",
    "testset = data.build_full_trainset()"
   ]
  },
  {
   "cell_type": "code",
   "execution_count": 54,
   "metadata": {
    "id": "puA_GOlYHxIV"
   },
   "outputs": [],
   "source": [
    "def get_ratings(predictions):\n",
    "    actual = np.array([pred.r_ui for pred in predictions])\n",
    "    predicted = np.array([pred.est for pred in predictions])\n",
    "    return actual, predicted"
   ]
  },
  {
   "cell_type": "code",
   "execution_count": 55,
   "metadata": {
    "id": "Ea_mEWdYIT9l"
   },
   "outputs": [],
   "source": [
    "def get_error(predictions):\n",
    "    actual, predicted = get_ratings(predictions)\n",
    "    rmse = np.sqrt(mean_squared_error(actual, predicted)) \n",
    "    mape = np.mean(abs((actual - predicted)/actual))*100\n",
    "    return rmse, mape"
   ]
  },
  {
   "cell_type": "code",
   "execution_count": 56,
   "metadata": {
    "id": "DSCs6ELyIW41"
   },
   "outputs": [],
   "source": [
    "def run_surprise(algo, trainset, testset, model_name):\n",
    "    startTime = datetime.now()\n",
    "    train = dict()\n",
    "    test = dict()\n",
    "    \n",
    "    algo.fit(trainset)\n",
    "\n",
    "    print(\"TRAIN DATA\")\n",
    "    train_pred = algo.test(trainset.build_testset())\n",
    "    train_actual, train_predicted = get_ratings(train_pred)\n",
    "    train_rmse, train_mape = get_error(train_pred)\n",
    "    print(\"RMSE = {}\".format(train_rmse))\n",
    "    print(\"MAPE = {}\".format(train_mape))\n",
    "    train = {\"RMSE\": train_rmse, \"MAPE\": train_mape, \"Prediction\": train_predicted}\n",
    "    \n",
    "    print(\"TEST DATA\")\n",
    "    test_pred = algo.test(testset.build_testset())\n",
    "    test_actual, test_predicted = get_ratings(test_pred)\n",
    "    test_rmse, test_mape = get_error(test_pred)\n",
    "    print(\"RMSE = {}\".format(test_rmse))\n",
    "    print(\"MAPE = {}\".format(test_mape))\n",
    "    test = {\"RMSE\": test_rmse, \"MAPE\": test_mape, \"Prediction\": test_predicted}\n",
    "\n",
    "    print(\"Time Taken = \"+str(datetime.now() - startTime))\n",
    "    \n",
    "    make_table(model_name, train_rmse, train_mape, test_rmse, test_mape)\n",
    "    \n",
    "    return train, test"
   ]
  },
  {
   "cell_type": "code",
   "execution_count": 57,
   "metadata": {
    "id": "pJXFnu2TY6E7"
   },
   "outputs": [],
   "source": [
    "# For SVD"
   ]
  },
  {
   "cell_type": "code",
   "execution_count": 58,
   "metadata": {
    "colab": {
     "base_uri": "https://localhost:8080/"
    },
    "id": "GfkLbr62QYIw",
    "outputId": "1476e5ec-307e-4c60-a3b4-aba328604e05"
   },
   "outputs": [
    {
     "name": "stdout",
     "output_type": "stream",
     "text": [
      "{'n_factors': 25}\n"
     ]
    }
   ],
   "source": [
    "parameter  = {'n_factors': [5,7,10,15,20,25,35,50,70,90]}   \n",
    "# n_factors is the equivalent to dimension 'd' when matrix 'A' is broken into 'b' and 'c'. So, matrix 'A' will be of dimension n*m. So, matrices 'b' and 'c' will be of dimension n*d and d*m.\n",
    "gs = GridSearchCV(SVD, parameter, measures=['rmse', 'mae'], cv=3)\n",
    "gs.fit(data)\n",
    "print(gs.best_params['rmse'])"
   ]
  },
  {
   "cell_type": "code",
   "execution_count": 59,
   "metadata": {
    "colab": {
     "base_uri": "https://localhost:8080/"
    },
    "id": "cxT0oGkwI3dj",
    "outputId": "d7f11b6f-7ea0-4900-d095-07d5bd90f167"
   },
   "outputs": [
    {
     "name": "stdout",
     "output_type": "stream",
     "text": [
      "Processing epoch 0\n",
      "Processing epoch 1\n",
      "Processing epoch 2\n",
      "Processing epoch 3\n",
      "Processing epoch 4\n",
      "Processing epoch 5\n",
      "Processing epoch 6\n",
      "Processing epoch 7\n",
      "Processing epoch 8\n",
      "Processing epoch 9\n",
      "Processing epoch 10\n",
      "Processing epoch 11\n",
      "Processing epoch 12\n",
      "Processing epoch 13\n",
      "Processing epoch 14\n",
      "Processing epoch 15\n",
      "Processing epoch 16\n",
      "Processing epoch 17\n",
      "Processing epoch 18\n",
      "Processing epoch 19\n",
      "TRAIN DATA\n",
      "RMSE = 0.7864216051996965\n",
      "MAPE = 26.30613640940337\n",
      "TEST DATA\n",
      "RMSE = 1.1114859202749359\n",
      "MAPE = 48.84653264949965\n",
      "Time Taken = 0:00:00.287783\n"
     ]
    }
   ],
   "source": [
    "algo = SVD(n_factors = gs.best_params['rmse']['n_factors'], biased=True, random_state=15, verbose=True)\n",
    "train_result, test_result = run_surprise(algo, trainset, testset, \"SVD\")\n",
    "\n",
    "model_train_evaluation[\"SVD\"] = train_result\n",
    "model_test_evaluation[\"SVD\"] = test_result"
   ]
  },
  {
   "cell_type": "code",
   "execution_count": 60,
   "metadata": {
    "id": "ZU2Kok5NYwDT"
   },
   "outputs": [],
   "source": [
    "# For SVDpp"
   ]
  },
  {
   "cell_type": "code",
   "execution_count": 61,
   "metadata": {
    "colab": {
     "base_uri": "https://localhost:8080/"
    },
    "id": "QfPbi5y5KBJ0",
    "outputId": "cfa227e9-070c-4668-8294-70e88e5cca54"
   },
   "outputs": [
    {
     "name": "stdout",
     "output_type": "stream",
     "text": [
      "{'n_factors': 10, 'lr_all': 0.018}\n"
     ]
    }
   ],
   "source": [
    "parameter = {'n_factors': [10, 30, 50, 80, 100], 'lr_all': [0.002, 0.006, 0.018, 0.054, 0.10]}\n",
    "# lr_all means learning_rate\n",
    "gs = GridSearchCV(SVDpp, parameter, measures=['rmse', 'mae'], cv=3)\n",
    "\n",
    "gs.fit(data)\n",
    "\n",
    "# combination of parameters that gave the best RMSE score\n",
    "print(gs.best_params['rmse'])"
   ]
  },
  {
   "cell_type": "code",
   "execution_count": 62,
   "metadata": {
    "colab": {
     "base_uri": "https://localhost:8080/"
    },
    "id": "7Nfz4gf-X_Yg",
    "outputId": "131d9d69-68f8-4931-e2ad-e8b4f38f6173"
   },
   "outputs": [
    {
     "name": "stdout",
     "output_type": "stream",
     "text": [
      " processing epoch 0\n",
      " processing epoch 1\n",
      " processing epoch 2\n",
      " processing epoch 3\n",
      " processing epoch 4\n",
      " processing epoch 5\n",
      " processing epoch 6\n",
      " processing epoch 7\n",
      " processing epoch 8\n",
      " processing epoch 9\n",
      " processing epoch 10\n",
      " processing epoch 11\n",
      " processing epoch 12\n",
      " processing epoch 13\n",
      " processing epoch 14\n",
      " processing epoch 15\n",
      " processing epoch 16\n",
      " processing epoch 17\n",
      " processing epoch 18\n",
      " processing epoch 19\n",
      "TRAIN DATA\n",
      "RMSE = 0.40367419557158774\n",
      "MAPE = 12.2833540773892\n",
      "TEST DATA\n",
      "RMSE = 1.111079652017906\n",
      "MAPE = 48.72415892404071\n",
      "Time Taken = 0:00:01.236109\n"
     ]
    }
   ],
   "source": [
    "algo = SVDpp(n_factors = gs.best_params['rmse']['n_factors'],random_state=15,lr_all = gs.best_params['rmse'][\"lr_all\"], verbose=True)\n",
    "train_result, test_result = run_surprise(algo, trainset, testset, \"SVDpp\")\n",
    "\n",
    "model_train_evaluation[\"SVDpp\"] = train_result\n",
    "model_test_evaluation[\"SVDpp\"] = test_result"
   ]
  },
  {
   "cell_type": "code",
   "execution_count": 63,
   "metadata": {
    "id": "K03cVfbWYMpX"
   },
   "outputs": [],
   "source": [
    "\n",
    "train_reg[\"SVD\"] = model_train_evaluation[\"SVD\"]['Prediction']\n",
    "train_reg[\"SVDpp\"] = model_train_evaluation[\"SVDpp\"][\"Prediction\"]\n",
    "\n",
    "test_reg[\"SVD\"] = model_test_evaluation[\"SVD\"][\"Prediction\"]\n",
    "test_reg[\"SVDpp\"] = model_test_evaluation[\"SVDpp\"][\"Prediction\"]\n"
   ]
  },
  {
   "cell_type": "code",
   "execution_count": 64,
   "metadata": {
    "colab": {
     "base_uri": "https://localhost:8080/",
     "height": 195
    },
    "id": "1rqae5qecBZX",
    "outputId": "d9b35d2e-8fbd-41a6-c650-3579fdf812d1"
   },
   "outputs": [
    {
     "data": {
      "text/html": [
       "<div>\n",
       "<style scoped>\n",
       "    .dataframe tbody tr th:only-of-type {\n",
       "        vertical-align: middle;\n",
       "    }\n",
       "\n",
       "    .dataframe tbody tr th {\n",
       "        vertical-align: top;\n",
       "    }\n",
       "\n",
       "    .dataframe thead th {\n",
       "        text-align: right;\n",
       "    }\n",
       "</style>\n",
       "<table border=\"1\" class=\"dataframe\">\n",
       "  <thead>\n",
       "    <tr style=\"text-align: right;\">\n",
       "      <th></th>\n",
       "      <th>user</th>\n",
       "      <th>movie</th>\n",
       "      <th>GAvg</th>\n",
       "      <th>sur1</th>\n",
       "      <th>sur2</th>\n",
       "      <th>sur3</th>\n",
       "      <th>sur4</th>\n",
       "      <th>sur5</th>\n",
       "      <th>smr1</th>\n",
       "      <th>smr2</th>\n",
       "      <th>smr3</th>\n",
       "      <th>smr4</th>\n",
       "      <th>smr5</th>\n",
       "      <th>UAvg</th>\n",
       "      <th>MAvg</th>\n",
       "      <th>rating</th>\n",
       "      <th>SVD</th>\n",
       "      <th>SVDpp</th>\n",
       "    </tr>\n",
       "  </thead>\n",
       "  <tbody>\n",
       "    <tr>\n",
       "      <th>0</th>\n",
       "      <td>663</td>\n",
       "      <td>11</td>\n",
       "      <td>3.549038</td>\n",
       "      <td>3.5</td>\n",
       "      <td>4.0</td>\n",
       "      <td>2.0</td>\n",
       "      <td>4.0</td>\n",
       "      <td>4.0</td>\n",
       "      <td>3.0</td>\n",
       "      <td>3.0</td>\n",
       "      <td>1.000000</td>\n",
       "      <td>3.000000</td>\n",
       "      <td>5.000000</td>\n",
       "      <td>3.388889</td>\n",
       "      <td>3.671498</td>\n",
       "      <td>3.0</td>\n",
       "      <td>3.334451</td>\n",
       "      <td>3.601526</td>\n",
       "    </tr>\n",
       "    <tr>\n",
       "      <th>0</th>\n",
       "      <td>732</td>\n",
       "      <td>11</td>\n",
       "      <td>3.549038</td>\n",
       "      <td>3.0</td>\n",
       "      <td>4.0</td>\n",
       "      <td>4.0</td>\n",
       "      <td>4.0</td>\n",
       "      <td>4.0</td>\n",
       "      <td>3.5</td>\n",
       "      <td>2.5</td>\n",
       "      <td>3.666667</td>\n",
       "      <td>3.666667</td>\n",
       "      <td>3.666667</td>\n",
       "      <td>3.666667</td>\n",
       "      <td>3.671498</td>\n",
       "      <td>5.0</td>\n",
       "      <td>3.442776</td>\n",
       "      <td>2.950054</td>\n",
       "    </tr>\n",
       "    <tr>\n",
       "      <th>0</th>\n",
       "      <td>1754</td>\n",
       "      <td>11</td>\n",
       "      <td>3.549038</td>\n",
       "      <td>4.0</td>\n",
       "      <td>4.0</td>\n",
       "      <td>4.0</td>\n",
       "      <td>5.0</td>\n",
       "      <td>5.0</td>\n",
       "      <td>3.0</td>\n",
       "      <td>3.5</td>\n",
       "      <td>3.500000</td>\n",
       "      <td>3.500000</td>\n",
       "      <td>3.500000</td>\n",
       "      <td>3.500000</td>\n",
       "      <td>3.671498</td>\n",
       "      <td>4.0</td>\n",
       "      <td>3.817110</td>\n",
       "      <td>4.359684</td>\n",
       "    </tr>\n",
       "    <tr>\n",
       "      <th>0</th>\n",
       "      <td>1869</td>\n",
       "      <td>11</td>\n",
       "      <td>3.549038</td>\n",
       "      <td>4.0</td>\n",
       "      <td>4.0</td>\n",
       "      <td>5.0</td>\n",
       "      <td>4.0</td>\n",
       "      <td>4.0</td>\n",
       "      <td>2.0</td>\n",
       "      <td>4.0</td>\n",
       "      <td>2.000000</td>\n",
       "      <td>2.000000</td>\n",
       "      <td>2.800000</td>\n",
       "      <td>2.800000</td>\n",
       "      <td>3.671498</td>\n",
       "      <td>4.0</td>\n",
       "      <td>3.618519</td>\n",
       "      <td>3.342691</td>\n",
       "    </tr>\n",
       "    <tr>\n",
       "      <th>0</th>\n",
       "      <td>1937</td>\n",
       "      <td>11</td>\n",
       "      <td>3.549038</td>\n",
       "      <td>4.0</td>\n",
       "      <td>3.0</td>\n",
       "      <td>5.0</td>\n",
       "      <td>4.0</td>\n",
       "      <td>3.0</td>\n",
       "      <td>2.0</td>\n",
       "      <td>4.0</td>\n",
       "      <td>4.000000</td>\n",
       "      <td>3.000000</td>\n",
       "      <td>5.000000</td>\n",
       "      <td>3.833333</td>\n",
       "      <td>3.671498</td>\n",
       "      <td>3.0</td>\n",
       "      <td>3.088016</td>\n",
       "      <td>2.736114</td>\n",
       "    </tr>\n",
       "  </tbody>\n",
       "</table>\n",
       "</div>"
      ],
      "text/plain": [
       "   user  movie      GAvg  sur1  ...      MAvg  rating       SVD     SVDpp\n",
       "0   663     11  3.549038   3.5  ...  3.671498     3.0  3.334451  3.601526\n",
       "0   732     11  3.549038   3.0  ...  3.671498     5.0  3.442776  2.950054\n",
       "0  1754     11  3.549038   4.0  ...  3.671498     4.0  3.817110  4.359684\n",
       "0  1869     11  3.549038   4.0  ...  3.671498     4.0  3.618519  3.342691\n",
       "0  1937     11  3.549038   4.0  ...  3.671498     3.0  3.088016  2.736114\n",
       "\n",
       "[5 rows x 18 columns]"
      ]
     },
     "execution_count": 64,
     "metadata": {
      "tags": []
     },
     "output_type": "execute_result"
    }
   ],
   "source": [
    "train_reg.head()"
   ]
  },
  {
   "cell_type": "code",
   "execution_count": 65,
   "metadata": {
    "colab": {
     "base_uri": "https://localhost:8080/",
     "height": 195
    },
    "id": "MIvuCiwseP4p",
    "outputId": "6cf433ca-6643-432f-b623-3908fbcb964f"
   },
   "outputs": [
    {
     "data": {
      "text/html": [
       "<div>\n",
       "<style scoped>\n",
       "    .dataframe tbody tr th:only-of-type {\n",
       "        vertical-align: middle;\n",
       "    }\n",
       "\n",
       "    .dataframe tbody tr th {\n",
       "        vertical-align: top;\n",
       "    }\n",
       "\n",
       "    .dataframe thead th {\n",
       "        text-align: right;\n",
       "    }\n",
       "</style>\n",
       "<table border=\"1\" class=\"dataframe\">\n",
       "  <thead>\n",
       "    <tr style=\"text-align: right;\">\n",
       "      <th></th>\n",
       "      <th>user</th>\n",
       "      <th>movie</th>\n",
       "      <th>GAvg</th>\n",
       "      <th>sur1</th>\n",
       "      <th>sur2</th>\n",
       "      <th>sur3</th>\n",
       "      <th>sur4</th>\n",
       "      <th>sur5</th>\n",
       "      <th>smr1</th>\n",
       "      <th>smr2</th>\n",
       "      <th>smr3</th>\n",
       "      <th>smr4</th>\n",
       "      <th>smr5</th>\n",
       "      <th>UAvg</th>\n",
       "      <th>MAvg</th>\n",
       "      <th>rating</th>\n",
       "      <th>SVD</th>\n",
       "      <th>SVDpp</th>\n",
       "    </tr>\n",
       "  </thead>\n",
       "  <tbody>\n",
       "    <tr>\n",
       "      <th>0</th>\n",
       "      <td>26590</td>\n",
       "      <td>9</td>\n",
       "      <td>3.347826</td>\n",
       "      <td>4.0</td>\n",
       "      <td>3.0</td>\n",
       "      <td>3.0</td>\n",
       "      <td>4.0</td>\n",
       "      <td>4.0</td>\n",
       "      <td>4.0</td>\n",
       "      <td>4.0</td>\n",
       "      <td>4.0</td>\n",
       "      <td>4.0</td>\n",
       "      <td>4.0</td>\n",
       "      <td>4.0</td>\n",
       "      <td>3.458333</td>\n",
       "      <td>4.0</td>\n",
       "      <td>3.549038</td>\n",
       "      <td>3.549038</td>\n",
       "    </tr>\n",
       "    <tr>\n",
       "      <th>0</th>\n",
       "      <td>31383</td>\n",
       "      <td>9</td>\n",
       "      <td>3.347826</td>\n",
       "      <td>4.0</td>\n",
       "      <td>3.0</td>\n",
       "      <td>3.0</td>\n",
       "      <td>4.0</td>\n",
       "      <td>4.0</td>\n",
       "      <td>3.0</td>\n",
       "      <td>3.0</td>\n",
       "      <td>3.0</td>\n",
       "      <td>3.0</td>\n",
       "      <td>3.0</td>\n",
       "      <td>3.0</td>\n",
       "      <td>3.458333</td>\n",
       "      <td>3.0</td>\n",
       "      <td>3.549038</td>\n",
       "      <td>3.549038</td>\n",
       "    </tr>\n",
       "    <tr>\n",
       "      <th>0</th>\n",
       "      <td>43399</td>\n",
       "      <td>9</td>\n",
       "      <td>3.347826</td>\n",
       "      <td>4.0</td>\n",
       "      <td>3.0</td>\n",
       "      <td>3.5</td>\n",
       "      <td>3.0</td>\n",
       "      <td>3.0</td>\n",
       "      <td>3.0</td>\n",
       "      <td>3.0</td>\n",
       "      <td>3.0</td>\n",
       "      <td>3.0</td>\n",
       "      <td>3.0</td>\n",
       "      <td>3.0</td>\n",
       "      <td>3.458333</td>\n",
       "      <td>3.0</td>\n",
       "      <td>3.549038</td>\n",
       "      <td>3.549038</td>\n",
       "    </tr>\n",
       "    <tr>\n",
       "      <th>0</th>\n",
       "      <td>54959</td>\n",
       "      <td>9</td>\n",
       "      <td>3.347826</td>\n",
       "      <td>3.0</td>\n",
       "      <td>3.0</td>\n",
       "      <td>3.0</td>\n",
       "      <td>3.5</td>\n",
       "      <td>3.0</td>\n",
       "      <td>2.0</td>\n",
       "      <td>3.0</td>\n",
       "      <td>3.0</td>\n",
       "      <td>3.0</td>\n",
       "      <td>3.0</td>\n",
       "      <td>3.0</td>\n",
       "      <td>3.458333</td>\n",
       "      <td>4.0</td>\n",
       "      <td>3.549038</td>\n",
       "      <td>3.549038</td>\n",
       "    </tr>\n",
       "    <tr>\n",
       "      <th>0</th>\n",
       "      <td>57049</td>\n",
       "      <td>9</td>\n",
       "      <td>3.347826</td>\n",
       "      <td>4.0</td>\n",
       "      <td>3.0</td>\n",
       "      <td>3.0</td>\n",
       "      <td>4.0</td>\n",
       "      <td>4.0</td>\n",
       "      <td>3.0</td>\n",
       "      <td>3.0</td>\n",
       "      <td>3.0</td>\n",
       "      <td>3.0</td>\n",
       "      <td>3.0</td>\n",
       "      <td>3.0</td>\n",
       "      <td>3.458333</td>\n",
       "      <td>3.0</td>\n",
       "      <td>3.549038</td>\n",
       "      <td>3.549038</td>\n",
       "    </tr>\n",
       "  </tbody>\n",
       "</table>\n",
       "</div>"
      ],
      "text/plain": [
       "    user  movie      GAvg  sur1  ...      MAvg  rating       SVD     SVDpp\n",
       "0  26590      9  3.347826   4.0  ...  3.458333     4.0  3.549038  3.549038\n",
       "0  31383      9  3.347826   4.0  ...  3.458333     3.0  3.549038  3.549038\n",
       "0  43399      9  3.347826   4.0  ...  3.458333     3.0  3.549038  3.549038\n",
       "0  54959      9  3.347826   3.0  ...  3.458333     4.0  3.549038  3.549038\n",
       "0  57049      9  3.347826   4.0  ...  3.458333     3.0  3.549038  3.549038\n",
       "\n",
       "[5 rows x 18 columns]"
      ]
     },
     "execution_count": 65,
     "metadata": {
      "tags": []
     },
     "output_type": "execute_result"
    }
   ],
   "source": [
    "test_reg.head()"
   ]
  },
  {
   "cell_type": "code",
   "execution_count": 66,
   "metadata": {
    "id": "YfVppiT3eV-v"
   },
   "outputs": [],
   "source": [
    "error_table=error_table.drop(['Train MAPE','Test MAPE'],axis=1)"
   ]
  },
  {
   "cell_type": "code",
   "execution_count": 67,
   "metadata": {
    "colab": {
     "base_uri": "https://localhost:8080/",
     "height": 106
    },
    "id": "oeVAkA_wfWh0",
    "outputId": "22d63d19-3511-426a-896b-b37467ef9d0e"
   },
   "outputs": [
    {
     "data": {
      "text/html": [
       "<div>\n",
       "<style scoped>\n",
       "    .dataframe tbody tr th:only-of-type {\n",
       "        vertical-align: middle;\n",
       "    }\n",
       "\n",
       "    .dataframe tbody tr th {\n",
       "        vertical-align: top;\n",
       "    }\n",
       "\n",
       "    .dataframe thead th {\n",
       "        text-align: right;\n",
       "    }\n",
       "</style>\n",
       "<table border=\"1\" class=\"dataframe\">\n",
       "  <thead>\n",
       "    <tr style=\"text-align: right;\">\n",
       "      <th></th>\n",
       "      <th>Model</th>\n",
       "      <th>Train RMSE</th>\n",
       "      <th>Test RMSE</th>\n",
       "    </tr>\n",
       "  </thead>\n",
       "  <tbody>\n",
       "    <tr>\n",
       "      <th>0</th>\n",
       "      <td>SVD</td>\n",
       "      <td>0.786422</td>\n",
       "      <td>1.111486</td>\n",
       "    </tr>\n",
       "    <tr>\n",
       "      <th>1</th>\n",
       "      <td>SVDpp</td>\n",
       "      <td>0.403674</td>\n",
       "      <td>1.111080</td>\n",
       "    </tr>\n",
       "  </tbody>\n",
       "</table>\n",
       "</div>"
      ],
      "text/plain": [
       "   Model  Train RMSE  Test RMSE\n",
       "0    SVD    0.786422   1.111486\n",
       "1  SVDpp    0.403674   1.111080"
      ]
     },
     "execution_count": 67,
     "metadata": {
      "tags": []
     },
     "output_type": "execute_result"
    }
   ],
   "source": [
    "error_table"
   ]
  },
  {
   "cell_type": "code",
   "execution_count": 68,
   "metadata": {
    "id": "O-lhZ9fqjNE1"
   },
   "outputs": [],
   "source": [
    "# if rmse value<2 than we can say that it is good model. in this case svdpp is best model for matrix factorization recommendation system."
   ]
  },
  {
   "cell_type": "code",
   "execution_count": 68,
   "metadata": {
    "id": "gpprLq3KmTrQ"
   },
   "outputs": [],
   "source": []
  }
 ],
 "metadata": {
  "colab": {
   "collapsed_sections": [],
   "name": "matrix_factorization_movie_recommendation_model",
   "provenance": []
  },
  "kernelspec": {
   "display_name": "Python 3",
   "language": "python",
   "name": "python3"
  },
  "language_info": {
   "codemirror_mode": {
    "name": "ipython",
    "version": 3
   },
   "file_extension": ".py",
   "mimetype": "text/x-python",
   "name": "python",
   "nbconvert_exporter": "python",
   "pygments_lexer": "ipython3",
   "version": "3.8.3"
  }
 },
 "nbformat": 4,
 "nbformat_minor": 1
}
